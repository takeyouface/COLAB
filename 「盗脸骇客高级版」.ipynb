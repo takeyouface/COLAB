{
  "nbformat": 4,
  "nbformat_minor": 0,
  "metadata": {
    "colab": {
      "name": "「盗脸骇客中文版」",
      "provenance": [],
      "collapsed_sections": [
        "BDg_jiQ9adQe",
        "lZ4FOxo0Ggnm",
        "JuVn21kt40Gw",
        "hqwOlJG4MdLC",
        "tUNVcbujhm00",
        "WTuyUxgdLA13",
        "avAcSL_uvtq_",
        "Mi9KdQlhRDU3"
      ],
      "toc_visible": true
    },
    "kernelspec": {
      "name": "python3",
      "display_name": "Python 3"
    },
    "accelerator": "GPU"
  },
  "cells": [
    {
      "cell_type": "markdown",
      "metadata": {
        "id": "0cKdTCuv4tXh",
        "colab_type": "text"
      },
      "source": [
        "<a href=\"https://twitter.com/kESXAFKuPdhrfHb\" target=\"_parent\"><img src=\"https://github.com/IMIYOU/gardendream/blob/master/QR.png?raw=true\" alt=\"Open In Colab\"/></a>"
      ]
    },
    {
      "cell_type": "markdown",
      "metadata": {
        "colab_type": "text",
        "id": "N5IVPxOFq8f-"
      },
      "source": [
        "# 【盜臉駭客製作-手機換臉繁中版】\n",
        "\n",
        "此為本群獨立原創Colab,僅限科學用途,一切非法行為本群皆不負責！\n",
        "(如有任何問題,請掃右上QR碼/TG私訊群主,將有專人為您服務)\n",
        "\n",
        "\n",
        "# 本軟體重點\n",
        "*   臉部提取功能正常！\n",
        "*   與PC端不同,訓練不可直接預覽！\n",
        "*   您可以使用Google驅動導入/導出工作區！\n",
        "*   使用“管理工作區”塊中可以執行的工作區導入/導出和其他操作！\n",
        "*   本軟體單次運作最多12小时，盜臉駭客手機版Colab在訓練模式下將備份您的工作區！\n",
        "*   本軟體可刷出多款高效率AI顯卡,P100為頂級16G,優於市面上多數卡\n",
        "*   此為連接雲端電腦操作,非自用電腦,操作性上有多種侷限,僅推薦輕量玩家使用,若想有最好體驗,請購買【盜臉駭客-繁中電腦版】\n"
      ]
    },
    {
      "cell_type": "markdown",
      "metadata": {
        "id": "BDg_jiQ9adQe",
        "colab_type": "text"
      },
      "source": [
        "# 【第一步】查看分配到的GPU(顯卡)\n",
        "\n",
        "*   Google Colab可以為您提供一個特斯拉圖形顯卡: K80(11G), T4(16G), P4(8G) or P100(16G)\n",
        "*   在使用盜臉駭客換臉之前，您可以在這裡檢查配備的GPU型號\n",
        "\n"
      ]
    },
    {
      "cell_type": "code",
      "metadata": {
        "id": "WJe71S6gbzt3",
        "colab_type": "code",
        "colab": {}
      },
      "source": [
        "!nvidia-smi"
      ],
      "execution_count": 0,
      "outputs": []
    },
    {
      "cell_type": "markdown",
      "metadata": {
        "id": "lZ4FOxo0Ggnm",
        "colab_type": "text"
      },
      "source": [
        "#【第二步】連接驅動Google雲端"
      ]
    },
    {
      "cell_type": "code",
      "metadata": {
        "colab_type": "code",
        "cellView": "form",
        "id": "7vU1M2IlLEcO",
        "colab": {}
      },
      "source": [
        "#@title 開始掛載 \n",
        "#連接Google雲盘\n",
        "#點擊連接授權，複製授權碼，粘貼到文本框內，按后按ENTER鍵。\n",
        "\n",
        "from google.colab import drive\n",
        "drive.mount('/content/drive', force_remount=True)\n",
        "\n",
        "#創建程式目錄，並且進入目錄\n",
        "%cd /content/\n"
      ],
      "execution_count": 0,
      "outputs": []
    },
    {
      "cell_type": "markdown",
      "metadata": {
        "id": "JuVn21kt40Gw",
        "colab_type": "text"
      },
      "source": [
        "# 【第三步】安裝盜臉駭客及運行環境\n",
        "\n",
        "* 所有安裝都是自動的,請勿有多餘動作"
      ]
    },
    {
      "cell_type": "code",
      "metadata": {
        "id": "JG-f2WqT4fLK",
        "colab_type": "code",
        "cellView": "form",
        "colab": {}
      },
      "source": [
        "#@title 安裝HackFake雲端程式\n",
        "\n",
        "Mode = \"開始安裝\" #@param [\"開始安裝\"]\n",
        "\n",
        "#創建HackFake目錄，並且進入目錄\n",
        "%cd /content/\n",
        "\n",
        "from pathlib import Path\n",
        "if (Mode == \"開始安裝\"):\n",
        "  !git clone https://github.com/takeyouface/HackFake001.git\n",
        "\n",
        "\n",
        "\n",
        "print(\"Done!\")"
      ],
      "execution_count": 0,
      "outputs": []
    },
    {
      "cell_type": "code",
      "metadata": {
        "id": "fshA3DBLzRQo",
        "colab_type": "code",
        "cellView": "form",
        "colab": {}
      },
      "source": [
        "#@title 安裝運行環境\n",
        "!pip uninstall -y tensorflow\n",
        "!pip install tqdm\n",
        "!pip install numpy==1.17.0\n",
        "!pip install h5py==2.9.0\n",
        "!pip install opencv-python==4.1.0.25\n",
        "!pip install ffmpeg-python==0.1.17\n",
        "!pip install scikit-image==0.14.2\n",
        "!pip install scipy==1.4.1\n",
        "!pip install colorama\n",
        "!pip install tensorflow-gpu==1.14.0\n",
        "!pip install --upgrade scikit-image\n",
        "!apt-get install cuda-10-0"
      ],
      "execution_count": 0,
      "outputs": []
    },
    {
      "cell_type": "markdown",
      "metadata": {
        "id": "hqwOlJG4MdLC",
        "colab_type": "text"
      },
      "source": [
        "#【第四步】管理工作區(workspace)\n",
        "\n",
        "\n",
        "\n",
        "*   您可以導入/導出工作區或單個數據，如使用Google Drive的模型\n",
        "*   您可以清除所有工作區或刪除其中的一部分\n",
        "\n"
      ]
    },
    {
      "cell_type": "code",
      "metadata": {
        "id": "z4w_sUzgOQmL",
        "colab_type": "code",
        "cellView": "form",
        "colab": {}
      },
      "source": [
        "#@title 從云盤根目錄減壓到WORKSPACE工作區\n",
        "\n",
        "Mode = \"models\" #@param [\"workspace\", \"data_src\", \"data_dst\", \"data_src aligned\", \"data_dst aligned\", \"models\"]\n",
        "Archive_name = \"model.zip\" #@param {type:\"string\"}\n",
        "\n",
        "#Mount Google Drive as folder\n",
        "from google.colab import drive\n",
        "drive.mount('/content/drive', force_remount=True)\n",
        "\n",
        "def zip_and_copy(path, mode):\n",
        "  unzip_cmd=\" -q \"+Archive_name\n",
        "  \n",
        "  %cd $path\n",
        "  copy_cmd = \"/content/drive/My\\ Drive/\"+Archive_name+\" \"+path\n",
        "  !cp $copy_cmd\n",
        "  !unzip $unzip_cmd    \n",
        "  !rm $Archive_name\n",
        "\n",
        "if Mode == \"workspace\":\n",
        "  zip_and_copy(\"/content/drive/My\\ Drive\", \"workspace\")\n",
        "elif Mode == \"data_src\":\n",
        "  zip_and_copy(\"/content/drive/My\\ Drive/workspace\", \"data_src\")\n",
        "elif Mode == \"data_dst\":\n",
        "  zip_and_copy(\"/content/drive/My\\ Drive/workspace\", \"data_dst\")\n",
        "elif Mode == \"data_src aligned\":\n",
        "  zip_and_copy(\"/content/drive/My\\ Drive/workspace/data_src\", \"aligned\")\n",
        "elif Mode == \"data_dst aligned\":\n",
        "  zip_and_copy(\"/content/drive/My\\ Drive/workspace/data_dst\", \"aligned\")\n",
        "elif Mode == \"models\":\n",
        "  zip_and_copy(\"/content/drive/My\\ Drive/workspace\", \"model\")\n",
        "  \n",
        "print(\"Done!\")\n",
        "\n"
      ],
      "execution_count": 0,
      "outputs": []
    },
    {
      "cell_type": "code",
      "metadata": {
        "id": "0Y3WfuwoNXqC",
        "colab_type": "code",
        "cellView": "form",
        "colab": {}
      },
      "source": [
        "#@title 壓縮WORKSPACE工作區目錄到云盤根目錄 { form-width: \"30%\" }\n",
        "Mode = \"data_src\" #@param [\"workspace\", \"data_src\", \"data_dst\", \"data_src aligned\", \"data_dst aligned\", \"merged\", \"models\", \"result video\"]\n",
        "Archive_name = \"data_src.zip\" #@param {type:\"string\"}\n",
        "\n",
        "#Mount Google Drive as folder\n",
        "from google.colab import drive\n",
        "drive.mount('/content/drive', force_remount=True)\n",
        "\n",
        "def zip_and_copy(path, mode):\n",
        "  zip_cmd=\"-r -q \"+Archive_name+\" \"\n",
        "  \n",
        "  %cd $path\n",
        "  zip_cmd+=mode\n",
        "  !zip $zip_cmd\n",
        "  copy_cmd = \" \"+Archive_name+\"  /content/drive/My\\ Drive/\"\n",
        "  !cp $copy_cmd\n",
        "  !rm $Archive_name\n",
        "\n",
        "if Mode == \"workspace\":\n",
        "  zip_and_copy(\"/content/drive/My\\ Drive\", \"workspace\")\n",
        "elif Mode == \"data_src\":\n",
        "  zip_and_copy(\"/content/drive/My\\ Drive/workspace\", \"data_src\")\n",
        "elif Mode == \"data_dst\":\n",
        "  zip_and_copy(\"/content/drive/My\\ Drive/workspace\", \"data_dst\")\n",
        "elif Mode == \"data_src aligned\":\n",
        "  zip_and_copy(\"/content/drive/My\\ Drive/workspace/data_src\", \"aligned\")\n",
        "elif Mode == \"data_dst aligned\":\n",
        "  zip_and_copy(\"/content/drive/My\\ Drive/workspace/data_dst\", \"aligned\")\n",
        "elif Mode == \"merged\":\n",
        "  zip_and_copy(\"/content/drive/My\\ Drive/workspace/data_dst\", \"merged\")\n",
        "elif Mode == \"models\":\n",
        "  zip_and_copy(\"/content/drive/My\\ Drive/workspace\", \"model\")\n",
        "elif Mode == \"result video\":\n",
        "  !cp /content/drive/My\\ Drive/workspace/result.mp4 /content/drive/My\\ Drive/\n",
        "  \n",
        "print(\"Done!\")\n"
      ],
      "execution_count": 0,
      "outputs": []
    },
    {
      "cell_type": "code",
      "metadata": {
        "id": "Ta6ue_UGMkki",
        "colab_type": "code",
        "cellView": "form",
        "colab": {}
      },
      "source": [
        "#@title 刪除并重建WORKSPACE工作區目錄\n",
        "Mode = \"Delete and recreate workspace\" #@param [\"Delete and recreate workspace\", \"Delete models\", \"Delete data_src\", \"Delete data_src aligned\", \"Delete data_src video\", \"Delete data_dst\", \"Delete data_dst aligned\", \"Delete merged frames\"]\n",
        "\n",
        "%cd \"/content/drive/My Drive\" \n",
        "\n",
        "if Mode == \"Delete and recreate workspace\":\n",
        "  cmd = \"rm -r /content/drive/My\\ Drive/workspace ; mkdir /content/drive/My\\ Drive/workspace; mkdir /content/drive/My\\ Drive/workspace/data_src; mkdir /content/drive/My\\ Drive/workspace/data_src/aligned; mkdir /content/drive/My\\ Drive/workspace/data_dst; mkdir /content/drive/My\\ Drive/workspace/data_dst/aligned; mkdir /content/drive/My\\ Drive/workspace/model\"  \n",
        "elif Mode == \"Delete models\":\n",
        "  cmd = \"rm -r /content/drive/My\\ Drive/workspace/model/*\"\n",
        "elif Mode == \"Delete data_src\":\n",
        "  cmd = \"rm /content/drive/My\\ Drive/workspace/data_src/*.png || rm -r /content/drive/My\\ Drive/workspace/data_src/*.jpg\"\n",
        "elif Mode == \"Delete data_src aligned\":\n",
        "  cmd = \"rm -r /content/drive/My\\ Drive/workspace/data_src/aligned/*\"\n",
        "elif Mode == \"Delete data_src video\":\n",
        "  cmd = \"rm -r /content/drive/My\\ Drive/workspace/data_src.*\"\n",
        "elif Mode == \"Delete data_dst\":\n",
        "  cmd = \"rm /content/drive/My\\ Drive/workspace/data_dst/*.png || rm /content/drive/My\\ Drive/workspace/data_dst/*.jpg\"\n",
        "elif Mode == \"Delete data_dst aligned\":\n",
        "  cmd = \"rm -r /content/drive/My\\ Drive/workspace/data_dst/aligned/*\"\n",
        "elif Mode == \"Delete merged frames\":\n",
        "  cmd = \"rm -r /content/drive/My\\ Drive/workspace/data_dst/merged\"\n",
        "  \n",
        "!$cmd\n",
        "print(\"Done!\")"
      ],
      "execution_count": 0,
      "outputs": []
    },
    {
      "cell_type": "markdown",
      "metadata": {
        "id": "tUNVcbujhm00",
        "colab_type": "text"
      },
      "source": [
        "# 【第五步】人臉提取、排序和人臉素材工具\n",
        "* 為SRC或DST影片轉換圖片\n",
        "* 對SRC或DST影片進行降噪\n",
        "* 使用其中一個檢測器提取人臉，（S3FD-推薦），如果需要，可以使用修復提取圖片\n",
        "* 提取並手動排序後将工作區導出到Google Drive（在“管理工作區”中）\n",
        "* 你可以使用FacesetEnhancer增强你的faceset增强圖片將取代您的“aligned”資料\n",
        "* 選擇之素材,請不要使用過長的影片(手機版推薦五分鐘以下)不然會提取到死\n",
        "* (購買盜臉駭客SRC.DST素材者,請直接跳過此階段,已經幫您處理好可直接使用)\n"
      ]
    },
    {
      "cell_type": "code",
      "metadata": {
        "id": "qwJEbz5Nhot0",
        "colab_type": "code",
        "cellView": "form",
        "colab": {}
      },
      "source": [
        "#@title 視頻轉換成圖片\n",
        "Video = \"data_src\" #@param [\"data_src\", \"data_dst\"]\n",
        "\n",
        "%cd \"/content\"\n",
        "\n",
        "cmd = \"HackFake001/main.py videoed extract-video\"\n",
        "\n",
        "if Video == \"data_dst\":\n",
        "  cmd+= \" --input-file drive/My\\ Drive/workspace/data_dst.* --output-dir drive/My\\ Drive/workspace/data_dst/\"\n",
        "else:\n",
        "  cmd+= \" --input-file drive/My\\ Drive/workspace/data_src.* --output-dir drive/My\\ Drive/workspace/data_src/\"\n",
        "  \n",
        "!python $cmd"
      ],
      "execution_count": 0,
      "outputs": []
    },
    {
      "cell_type": "code",
      "metadata": {
        "id": "bFmPo0s2lTil",
        "colab_type": "code",
        "cellView": "form",
        "colab": {}
      },
      "source": [
        "#@title 圖片降噪\n",
        "Data = \"data_src\" #@param [\"data_src\", \"data_dst\"]\n",
        "Factor = 1 #@param {type:\"slider\", min:1, max:20, step:1}\n",
        "\n",
        "cmd = \"HackFake001/main.py videoed denoise-image-sequence --input-dir drive/My\\ Drive/workspace/\"+Data+\" --factor \"+str(Factor)\n",
        "\n",
        "%cd \"/content\"\n",
        "!python $cmd"
      ],
      "execution_count": 0,
      "outputs": []
    },
    {
      "cell_type": "code",
      "metadata": {
        "id": "nmq0Sj2bmq7d",
        "colab_type": "code",
        "cellView": "form",
        "colab": {}
      },
      "source": [
        "#@title 提取人臉素材\n",
        "Data = \"data_src\" #@param [\"data_src\", \"data_dst\"]\n",
        "Detector = \"S3FD\" #@param [\"S3FD\", \"S3FD (整張臉)\"]\n",
        "Debug = False #@param {type:\"boolean\"}\n",
        "\n",
        "detect_type = \"s3fd\"\n",
        "dbg = \" --output-debug\" if Debug else \" --no-output-debug\"\n",
        "\n",
        "folder = \"drive/My\\ Drive/workspace/\"+Data\n",
        "folder_aligned = folder+\"/aligned\"\n",
        "\n",
        "cmd = \"HackFake001/main.py extract --input-dir \"+folder+\" --output-dir \"+folder_aligned\n",
        "cmd+=\" --detector \"+detect_type+\" --force-gpu-idxs 0\"+dbg\n",
        "\n",
        "if \"整張臉\" in Detector:\n",
        "  cmd+=\" --face-type whole_face\" \n",
        "%cd \"/content\"\n",
        "!python $cmd"
      ],
      "execution_count": 0,
      "outputs": []
    },
    {
      "cell_type": "code",
      "metadata": {
        "id": "TRNxUFE6p6Eu",
        "colab_type": "code",
        "cellView": "form",
        "colab": {}
      },
      "source": [
        "#@title 人臉素材排序篩查\n",
        "Data = \"data_src\" #@param [\"data_src\", \"data_dst\"]\n",
        "sort_type = \"hist\" #@param [\"blur\", \"face-yaw\", \"face-pitch\", \"face-source-rect-size\", \"hist\", \"hist-dissim\", \"brightness\", \"hue\", \"black\", \"origname\", \"oneface\", \"final\", \"final-faster\", \"absdiff\"]\n",
        "\n",
        "cmd = \"HackFake001/main.py sort --input-dir drive/My\\ Drive/workspace/\"+Data+\"/aligned --by \"+sort_type\n",
        "\n",
        "%cd \"/content\"\n",
        "!python $cmd"
      ],
      "execution_count": 0,
      "outputs": []
    },
    {
      "cell_type": "code",
      "metadata": {
        "id": "O5MbnVDyXkP7",
        "colab_type": "code",
        "cellView": "form",
        "colab": {}
      },
      "source": [
        "#@title 人臉素材細節提升\n",
        "Data = \"data_src\" #@param [\"data_src\", \"data_dst\"]\n",
        "\n",
        "data_path = \"/content/drive/My\\ Drive/workspace/\"+Data+\"/aligned\"\n",
        "cmd = \"/content/HackFake001/main.py facesettool enhance --input-dir \"+data_path\n",
        "!python $cmd"
      ],
      "execution_count": 0,
      "outputs": []
    },
    {
      "cell_type": "code",
      "metadata": {
        "id": "O5MbnVDyXkP8",
        "colab_type": "code",
        "cellView": "form",
        "colab": {}
      },
      "source": [
        "#@title 人臉素材打包\n",
        "Data = \"data_src\" #@param [\"data_src\", \"data_dst\"]\n",
        "\n",
        "data_path = \"/content/drive/My\\ Drive/workspace/\"+Data+\"/aligned\"\n",
        "cmd = \"/content/HackFake001/main.py util --pack-faceset --input-dir \"+data_path\n",
        "!python $cmd"
      ],
      "execution_count": 0,
      "outputs": []
    },
    {
      "cell_type": "code",
      "metadata": {
        "id": "O5MbnVDyXkP9",
        "colab_type": "code",
        "cellView": "form",
        "colab": {}
      },
      "source": [
        "#@title 人臉素材解包\n",
        "Data = \"data_src\" #@param [\"data_src\", \"data_dst\"]\n",
        "\n",
        "data_path = \"/content/drive/My\\ Drive/workspace/\"+Data+\"/aligned\"\n",
        "cmd = \"/content/HackFake001/main.py util --unpack-faceset --input-dir \"+data_path\n",
        "!python $cmd"
      ],
      "execution_count": 0,
      "outputs": []
    },
        {
      "cell_type": "code",
      "metadata": {
        "id": "-VVvtoBMGnrA",
        "colab_type": "code",
        "colab": {},
        "cellView": "form"
      },
      "source": [
        "#@title 為素材應用或者移除訓練好的XSeg遮罩（記得解包人臉素材后操作）\n",
        "Mode = \"Remove mask\" #@param [\"Apply mask\", \"Remove mask\"]\n",
        "Data = \"data_src\" #@param [\"data_src\", \"data_dst\"]\n",
        "\n",
        "main_path = \"/content/HackFake001/main.py \"\n",
        "data_path = \"/content/drive/My\\ Drive/workspace/\"+Data+\"/aligned \"\n",
        "mode_arg = \"apply \" if Mode == \"Apply mask\" else \"remove \"\n",
        "cmd = main_path+\"xseg \"+mode_arg+\"--input-dir \"+data_path\n",
        "cmd += \"--model-dir /content/drive/My\\ Drive/workspace/model\" if mode_arg == \"apply \" else \"\"\n",
        "\n",
        "!python $cmd"
      ],
      "execution_count": 0,
      "outputs": []
    },
    {
      "cell_type": "markdown",
      "metadata": {
        "id": "WTuyUxgdLA13",
        "colab_type": "text"
      },
      "source": [
        "# 【第六步】訓練階段\n",
        "\n",
        "* 訓練模式分為換臉模型以及XSeg遮罩模型，根據自己需求選擇！\n",
        "* 在Model字段上選擇模型\n",
        "* 如果轉到文件管理器中的“模型”文件夾並雙擊preview.jpg文件，则可以手動查看預覽\n",
        "* 此外，還可以在“管理工作區”中手動導出工作區，訓練XSeg模型时要與你的人脸模型訓練範圍相同\n",
        "* Xseg僅為穩定臉部效果使用,非臉部模型,手機版無法使用繪畫功能,僅在有購買群主SRC.DST素材,可開啟此選項訓練,出片效果加倍!"
      ]
    },
    {
      "cell_type": "code",
      "metadata": {
        "id": "Z0Kya-PJLDhv",
        "colab_type": "code",
        "cellView": "form",
        "colab": {}
      },
      "source": [
        "#@title 模型訓練\n",
        "#連接驅動Google雲端\n",
        "#點擊鏈接授權，複製授權碼，填入文本框，然後按ENTER鍵開始。\n",
        "\n",
        "Model = \"advanced\" #@param [\"advanced\", \"XSeg\"]\n",
        "Silent_Start = True #@param {type:\"boolean\"}\n",
        "\n",
        "from google.colab import drive\n",
        "drive.mount('/content/drive', force_remount=True)\n",
        "\n",
        "# 安裝HackFake程式\n",
        "%cd /content/\n",
        "!git clone https://github.com/takeyouface/HackFake001.git\n",
        "\n",
        "# 安裝運行環境\n",
        "!pip uninstall -y tensorflow\n",
        "!pip install tqdm\n",
        "!pip install numpy==1.17.0\n",
        "!pip install h5py==2.9.0\n",
        "!pip install opencv-python==4.1.0.25\n",
        "!pip install ffmpeg-python==0.1.17\n",
        "!pip install scikit-image==0.14.2\n",
        "!pip install scipy==1.4.1\n",
        "!pip install colorama\n",
        "!pip install tensorflow-gpu==1.14.0\n",
        "!pip install --upgrade scikit-image\n",
        "!apt-get install cuda-10-0\n",
        "\n",
        "# 開始訓練模型\n",
        "cmd =\"HackFake001/main.py train --training-data-src-dir drive/My\\ Drive/workspace/data_src/aligned --training-data-dst-dir drive/My\\ Drive/workspace/data_dst/aligned --model-dir drive/My\\ Drive/workspace/model --model \" + Model +\" --no-preview\"\n",
        "\n",
        "if Model == \"Quick96\":\n",
        "  cmd+= \" --pretrained-model-dir pretrain_Q96\"\n",
        "\n",
        "if Silent_Start:\n",
        "  cmd+= \" --silent-start\"\n",
        "\n",
        "else:\n",
        "  train_cmd = (cmd)\n",
        "\n",
        "!python $cmd"
      ],
      "execution_count": 0,
      "outputs": []
    },
    {
      "cell_type": "markdown",
      "metadata": {
        "id": "avAcSL_uvtq_",
        "colab_type": "text"
      },
      "source": [
        "# 【最終階段】影片合成"
      ]
    },
    {
      "cell_type": "code",
      "metadata": {
        "id": "A3Y8K22Sv9Gn",
        "colab_type": "code",
        "cellView": "form",
        "colab": {}
      },
      "source": [
        "#@title 合成圖片\n",
        "Model = \"advanced\" #@param [\"advanced\" ]\n",
        "\n",
        "cmd = \"HackFake001/main.py merge --input-dir drive/My\\ Drive/workspace/data_dst --output-dir drive/My\\ Drive/workspace/data_dst/merged --output-mask-dir drive/My\\ Drive/workspace/data_dst/merged_mask --aligned-dir drive/My\\ Drive/workspace/data_dst/aligned --model-dir drive/My\\ Drive/workspace/model --model \"+Model\n",
        "\n",
        "%cd \"/content\"\n",
        "!python $cmd"
      ],
      "execution_count": 0,
      "outputs": []
    },
    {
      "cell_type": "code",
      "metadata": {
        "id": "JNeGfiZpxlnz",
        "colab_type": "code",
        "cellView": "form",
        "colab": {}
      },
      "source": [
        "#@title 合成影片并複製到云盤根目錄\n",
        "Mode = \"result video\" #@param [\"result video\", \"result_mask video\"]\n",
        "Copy_to_Drive = True #@param {type:\"boolean\"}\n",
        "\n",
        "\n",
        "if Mode == \"result video\":\n",
        "  !python HackFake001/main.py videoed video-from-sequence --input-dir drive/My\\ Drive/workspace/data_dst/merged --output-file drive/My\\ Drive/workspace/result.mp4 --reference-file drive/My\\ Drive/workspace/data_dst.mp4 --include-audio\n",
        "  if Copy_to_Drive:\n",
        "    !cp /content/drive/My\\ Drive/workspace/result.mp4 /content/drive/My\\ Drive/\n",
        "elif Mode == \"result_mask video\":\n",
        "  !python HackFake001/main.py videoed video-from-sequence --input-dir drive/My\\ Drive/workspace/data_dst/merged_mask --output-file drive/My\\ Drive/workspace/result_mask.mp4 --reference-file drive/My\\ Drive/workspace/data_dst.mp4\n",
        "  if Copy_to_Drive:\n",
        "    !cp /content/drive/My\\ Drive/workspace/result_mask.mp4 /content/drive/My\\ Drive/\n"
      ],
      "execution_count": 0,
      "outputs": []
    }
  ]
}
